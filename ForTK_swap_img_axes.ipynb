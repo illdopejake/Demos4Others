{
 "cells": [
  {
   "cell_type": "code",
   "execution_count": null,
   "metadata": {},
   "outputs": [],
   "source": [
    "import os\n",
    "import numpy as np\n",
    "import nibabel as nib\n",
    "import matplotlib.pyplot as plt\n",
    "from glob import glob\n",
    "from scipy.ndimage import rotate\n",
    "from nilearn import plotting\n"
   ]
  },
  {
   "cell_type": "code",
   "execution_count": null,
   "metadata": {
    "collapsed": true
   },
   "outputs": [],
   "source": [
    "%matplotlib inline"
   ]
  },
  {
   "cell_type": "markdown",
   "metadata": {},
   "source": [
    "#### load and view the image"
   ]
  },
  {
   "cell_type": "code",
   "execution_count": null,
   "metadata": {},
   "outputs": [],
   "source": [
    "my_img = nib.load('/Users/jakevogel/Science/tau/nan_snorm_002-S-4521_18F-AV1451_2016-04-05_P4_I730844.nii.gz')\n",
    "plotting.view_img(my_img)"
   ]
  },
  {
   "cell_type": "markdown",
   "metadata": {},
   "source": [
    "#### convert the image to a matrix"
   ]
  },
  {
   "cell_type": "code",
   "execution_count": null,
   "metadata": {},
   "outputs": [],
   "source": [
    "my_data = my_img.get_data()\n",
    "my_data.shape"
   ]
  },
  {
   "cell_type": "markdown",
   "metadata": {},
   "source": [
    "#### flip the lr directions"
   ]
  },
  {
   "cell_type": "code",
   "execution_count": null,
   "metadata": {
    "collapsed": true
   },
   "outputs": [],
   "source": [
    "flipped_data = np.flipud(my_data)\n",
    "# turn back into an image\n",
    "flipped_img = nib.Nifti1Image(flipped_data,my_img.affine)"
   ]
  },
  {
   "cell_type": "markdown",
   "metadata": {},
   "source": [
    "#### visualize and compare the two images"
   ]
  },
  {
   "cell_type": "code",
   "execution_count": null,
   "metadata": {
    "scrolled": true
   },
   "outputs": [],
   "source": [
    "plotting.plot_stat_map(my_img) # original\n",
    "plt.show()\n",
    "plotting.plot_stat_map(flipped_img) # flipped_image\n",
    "plt.show()"
   ]
  },
  {
   "cell_type": "markdown",
   "metadata": {},
   "source": [
    "#### swap y and z axes"
   ]
  },
  {
   "cell_type": "code",
   "execution_count": null,
   "metadata": {
    "collapsed": true
   },
   "outputs": [],
   "source": [
    "swapped_data = np.swapaxes(flipped_data,1,2)\n",
    "# and convert to image format\n",
    "swapped_img = nib.Nifti1Image(swapped_data,my_img.affine)"
   ]
  },
  {
   "cell_type": "markdown",
   "metadata": {},
   "source": [
    "#### visualize once more!"
   ]
  },
  {
   "cell_type": "code",
   "execution_count": null,
   "metadata": {},
   "outputs": [],
   "source": [
    "plotting.plot_stat_map(flipped_img) # original\n",
    "plt.show()\n",
    "plotting.plot_stat_map(swapped_img) # flipped_image\n",
    "plt.show()"
   ]
  },
  {
   "cell_type": "markdown",
   "metadata": {},
   "source": [
    "#### save it to disk"
   ]
  },
  {
   "cell_type": "code",
   "execution_count": null,
   "metadata": {
    "collapsed": true
   },
   "outputs": [],
   "source": [
    "## if you want to save the image back to disk, uncomment the next line\n",
    "# swapped_img.to_filename('/directory/to/save/in/filename.nii.gz')"
   ]
  },
  {
   "cell_type": "markdown",
   "metadata": {},
   "source": [
    "#### do this for several images"
   ]
  },
  {
   "cell_type": "code",
   "execution_count": null,
   "metadata": {},
   "outputs": [],
   "source": [
    "# collect several images using a wildcard\n",
    "my_imgs = sorted(glob('/Users/jakevogel/Science/tau/nan_snorm_*.nii.gz'))\n",
    "print('I found {} images'.format(len(my_imgs)))"
   ]
  },
  {
   "cell_type": "code",
   "execution_count": null,
   "metadata": {},
   "outputs": [],
   "source": [
    "# look at the first ten \n",
    "# (if you want to look at all, just remove the [:10])\n",
    "my_imgs[:10]"
   ]
  },
  {
   "cell_type": "code",
   "execution_count": null,
   "metadata": {
    "collapsed": true
   },
   "outputs": [],
   "source": [
    "# do the flipping/swapping/saving on all images\n",
    "for i,img_path in enumerate(my_imgs):\n",
    "    # load image\n",
    "    img = nib.load(img_path) \n",
    "    # convert it to a matrix\n",
    "    img_data = img.get_data() \n",
    "    # flip the x (lr) axis\n",
    "    flipped = np.flipud(img_data) \n",
    "    # swap the y and z axes\n",
    "    swapped = np.swapaxes(flipped_data,1,2) \n",
    "    # convert to image\n",
    "    new_img = nib.Nifti1Image(swapped,img.affine) \n",
    "    ## if you want to save it, uncomment the next two lines\n",
    "    # new_filename = '/path/to/save/flipped_swapped_{}.nii.gz'.format(i)\n",
    "    # new_img.to_filename(new_filename)\n"
   ]
  }
 ],
 "metadata": {
  "kernelspec": {
   "display_name": "Python 3",
   "language": "python",
   "name": "python3"
  },
  "language_info": {
   "codemirror_mode": {
    "name": "ipython",
    "version": 3
   },
   "file_extension": ".py",
   "mimetype": "text/x-python",
   "name": "python",
   "nbconvert_exporter": "python",
   "pygments_lexer": "ipython3",
   "version": "3.6.2"
  }
 },
 "nbformat": 4,
 "nbformat_minor": 2
}
